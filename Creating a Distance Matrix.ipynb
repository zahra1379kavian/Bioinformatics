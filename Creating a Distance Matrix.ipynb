{
 "cells": [
  {
   "cell_type": "code",
   "execution_count": 124,
   "id": "59f4de6a",
   "metadata": {},
   "outputs": [],
   "source": [
    "def hamming_distance(seq1,seq2):\n",
    "    return len([i for i in range(len(seq1)) if seq1[i]!=seq2[i]])"
   ]
  },
  {
   "cell_type": "code",
   "execution_count": 125,
   "id": "4e6092aa",
   "metadata": {},
   "outputs": [
    {
     "name": "stdout",
     "output_type": "stream",
     "text": [
      "0.00000 0.56602 0.33658 0.62013 0.31818 0.57143 0.61147 0.47727 0.32143\n",
      "0.56602 0.00000 0.50216 0.59416 0.63961 0.49242 0.57900 0.31061 0.64394\n",
      "0.33658 0.50216 0.00000 0.56926 0.47835 0.48052 0.55952 0.31818 0.48810\n",
      "0.62013 0.59416 0.56926 0.00000 0.64394 0.31818 0.48701 0.46429 0.66558\n",
      "0.31818 0.63961 0.47835 0.64394 0.00000 0.63203 0.65476 0.56277 0.48377\n",
      "0.57143 0.49242 0.48052 0.31818 0.63203 0.00000 0.31169 0.32143 0.64069\n",
      "0.61147 0.57900 0.55952 0.48701 0.65476 0.31169 0.00000 0.47944 0.63853\n",
      "0.47727 0.31061 0.31818 0.46429 0.56277 0.32143 0.47944 0.00000 0.60281\n",
      "0.32143 0.64394 0.48810 0.66558 0.48377 0.64069 0.63853 0.60281 0.00000\n"
     ]
    }
   ],
   "source": [
    "import numpy\n",
    "file = open('rosalind.txt','r')\n",
    "Lines = file.readlines()\n",
    "lines = []\n",
    "seq = \"\"\n",
    "\n",
    "\n",
    "for line in Lines:\n",
    "    if line.find('>') == 0:\n",
    "        lines.append(seq)\n",
    "        seq = \"\"\n",
    "    if line.find('>') != 0:\n",
    "            seq = seq + line.strip('\\n')\n",
    "\n",
    "lines.append(seq)\n",
    "lines.pop(0)\n",
    "\n",
    "distance_matrix = np.zeros([len(lines), len(lines)])\n",
    "\n",
    "for i in range(len(lines)):\n",
    "    for j in np.arange(i+1,len(lines)):\n",
    "        distance_matrix[i,j] = hamming_distance(lines[i],lines[j])\n",
    "        distance_matrix[j,i] = distance_matrix[i,j]\n",
    "\n",
    "distance_matrix /= len(lines[0])\n",
    "\n",
    "\n",
    "print('\\n'.join([' '.join(['{:0.5f}'.format(item) for item in row]) \n",
    "      for row in distance_matrix]))"
   ]
  },
  {
   "cell_type": "code",
   "execution_count": null,
   "id": "6672fc91",
   "metadata": {},
   "outputs": [],
   "source": []
  }
 ],
 "metadata": {
  "kernelspec": {
   "display_name": "Python 3 (ipykernel)",
   "language": "python",
   "name": "python3"
  },
  "language_info": {
   "codemirror_mode": {
    "name": "ipython",
    "version": 3
   },
   "file_extension": ".py",
   "mimetype": "text/x-python",
   "name": "python",
   "nbconvert_exporter": "python",
   "pygments_lexer": "ipython3",
   "version": "3.9.7"
  }
 },
 "nbformat": 4,
 "nbformat_minor": 5
}
