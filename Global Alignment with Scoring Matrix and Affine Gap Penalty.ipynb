{
 "cells": [
  {
   "cell_type": "code",
   "execution_count": 159,
   "id": "140682b7",
   "metadata": {},
   "outputs": [],
   "source": [
    "def edit_distance_alignmen(lines):\n",
    "    v = lines[0]\n",
    "    w = lines[1]\n",
    "    \n",
    "    n = len(v)\n",
    "    m = len(w)\n",
    "    \n",
    "    \n",
    "    if n==0 or m==0:\n",
    "        edit_distance = max(m,n)\n",
    "    else:\n",
    "        edit_distance = np.zeros((n+1,m+1), dtype= int)\n",
    "        direction = np.zeros((n+1,m+1), dtype= int)   #insert:0 deletion:1 mutation:2\n",
    "    \n",
    "    for i in range(edit_distance.shape[0]):\n",
    "        for j in range(edit_distance.shape[1]):\n",
    "            if i==0 and j==0:\n",
    "                edit_distance[i][j]=0\n",
    "                direction[i][j] = 1000\n",
    "            elif i==0:\n",
    "                edit_distance[i][j] = edit_distance[i][j-1] +1\n",
    "                direction[i][j] = 0\n",
    "            elif j==0:\n",
    "                edit_distance[i][j] = edit_distance[i-1][j] +1\n",
    "                direction[i][j] = 1\n",
    "            else:\n",
    "                check_point = [edit_distance[i][j-1]+1,edit_distance[i-1][j]+1,\n",
    "                               edit_distance[i-1][j-1]+1 if v[i-1]!=w[j-1] else edit_distance[i-1][j-1]]\n",
    "                \n",
    "                edit_distance[i][j] = min(check_point)\n",
    "                direction[i][j] = check_point.index(min(check_point))\n",
    "    \n",
    "    s1 = [] \n",
    "    s2 = []\n",
    "                \n",
    "    indx1 = n\n",
    "    indx2 = m\n",
    "                \n",
    "    count_s1 = n-1\n",
    "    count_s2 = m-1\n",
    "                \n",
    "    while direction[indx1][indx2] != 1000:\n",
    "        if direction[indx1][indx2] == 0:\n",
    "            s1.append('-')\n",
    "            s2.append(w[count_s2])\n",
    "            count_s2 -= 1\n",
    "            indx2 -= 1\n",
    "                        \n",
    "        if direction[indx1][indx2] == 1:\n",
    "            s1.append(v[count_s1])\n",
    "            s2.append('-')\n",
    "            count_s1 -= 1\n",
    "            indx1 -= 1\n",
    "                        \n",
    "        if direction[indx1][indx2] == 2:\n",
    "            s1.append(v[count_s1])\n",
    "            s2.append(w[count_s2])\n",
    "            count_s1 -= 1\n",
    "            count_s2 -= 1\n",
    "            indx1 -= 1\n",
    "            indx2 -= 1\n",
    "\n",
    "    s1.reverse()\n",
    "    s2.reverse()\n",
    "    \n",
    "    return s1,s2"
   ]
  },
  {
   "cell_type": "code",
   "execution_count": 160,
   "id": "6edae98e",
   "metadata": {},
   "outputs": [],
   "source": [
    "def BLOSUM62_scoring_matrix(s1,s2):\n",
    "    sMatrixTxt = '''\n",
    "   A  C  D  E  F  G  H  I  K  L  M  N  P  Q  R  S  T  V  W  Y\n",
    "A  4  0 -2 -1 -2  0 -2 -1 -1 -1 -1 -2 -1 -1 -1  1  0  0 -3 -2\n",
    "C  0  9 -3 -4 -2 -3 -3 -1 -3 -1 -1 -3 -3 -3 -3 -1 -1 -1 -2 -2\n",
    "D -2 -3  6  2 -3 -1 -1 -3 -1 -4 -3  1 -1  0 -2  0 -1 -3 -4 -3\n",
    "E -1 -4  2  5 -3 -2  0 -3  1 -3 -2  0 -1  2  0  0 -1 -2 -3 -2\n",
    "F -2 -2 -3 -3  6 -3 -1  0 -3  0  0 -3 -4 -3 -3 -2 -2 -1  1  3\n",
    "G  0 -3 -1 -2 -3  6 -2 -4 -2 -4 -3  0 -2 -2 -2  0 -2 -3 -2 -3\n",
    "H -2 -3 -1  0 -1 -2  8 -3 -1 -3 -2  1 -2  0  0 -1 -2 -3 -2  2\n",
    "I -1 -1 -3 -3  0 -4 -3  4 -3  2  1 -3 -3 -3 -3 -2 -1  3 -3 -1\n",
    "K -1 -3 -1  1 -3 -2 -1 -3  5 -2 -1  0 -1  1  2  0 -1 -2 -3 -2\n",
    "L -1 -1 -4 -3  0 -4 -3  2 -2  4  2 -3 -3 -2 -2 -2 -1  1 -2 -1\n",
    "M -1 -1 -3 -2  0 -3 -2  1 -1  2  5 -2 -2  0 -1 -1 -1  1 -1 -1\n",
    "N -2 -3  1  0 -3  0  1 -3  0 -3 -2  6 -2  0  0  1  0 -3 -4 -2\n",
    "P -1 -3 -1 -1 -4 -2 -2 -3 -1 -3 -2 -2  7 -1 -2 -1 -1 -2 -4 -3\n",
    "Q -1 -3  0  2 -3 -2  0 -3  1 -2  0  0 -1  5  1  0 -1 -2 -2 -1\n",
    "R -1 -3 -2  0 -3 -2  0 -3  2 -2 -1  0 -2  1  5 -1 -1 -3 -3 -2\n",
    "S  1 -1  0  0 -2  0 -1 -2  0 -2 -1  1 -1  0 -1  4  1 -2 -3 -2\n",
    "T  0 -1 -1 -1 -2 -2 -2 -1 -1 -1 -1  0 -1 -1 -1  1  5  0 -2 -2\n",
    "V  0 -1 -3 -2 -1 -3 -3  3 -2  1  1 -3 -2 -2 -3 -2  0  4 -3 -1\n",
    "W -3 -2 -4 -3  1 -2 -2 -3 -3 -2 -1 -4 -4 -2 -3 -3 -2 -3 11  2\n",
    "Y -2 -2 -3 -2  3 -3  2 -1 -2 -1 -1 -2 -3 -1 -2 -2 -2 -1  2  7\n",
    "'''\n",
    "\n",
    "    sMatrixList = sMatrixTxt.split('\\n')\n",
    "    sMatrixList.pop(0)\n",
    "    del sMatrixList[-1]\n",
    "\n",
    "    col = sMatrixList[0].index(s1)\n",
    "    for i in range(len(sMatrixList)):\n",
    "        if sMatrixList[i][0] == s2:\n",
    "            score = int(sMatrixList[i][col-1]+sMatrixList[i][col])\n",
    "    \n",
    "    return score"
   ]
  },
  {
   "cell_type": "code",
   "execution_count": 169,
   "id": "9076cb0f",
   "metadata": {},
   "outputs": [
    {
     "data": {
      "text/plain": [
       "''"
      ]
     },
     "execution_count": 169,
     "metadata": {},
     "output_type": "execute_result"
    }
   ],
   "source": [
    "import numpy as np\n",
    "\n",
    "file = open('rosalind.txt','r')\n",
    "Lines = file.readlines()\n",
    "lines = []\n",
    "seq = \"\"\n",
    "\n",
    "\n",
    "for line in Lines:\n",
    "    if line.find('>') == 0:\n",
    "        lines.append(seq)\n",
    "        seq = \"\"\n",
    "    if line.find('>') != 0:\n",
    "            seq = seq + line.strip('\\n')\n",
    "\n",
    "lines.append(seq)\n",
    "lines.pop(0)"
   ]
  },
  {
   "cell_type": "code",
   "execution_count": 170,
   "id": "0a12ce58",
   "metadata": {},
   "outputs": [],
   "source": [
    "s1,s2 = edit_distance_alignmen(lines)"
   ]
  },
  {
   "cell_type": "code",
   "execution_count": 171,
   "id": "6d11cd3c",
   "metadata": {},
   "outputs": [
    {
     "name": "stdout",
     "output_type": "stream",
     "text": [
      "316\n",
      "QNITGAYSMWMM--NYFFEHEGNSWIGKHGNTSWEVFAMHESRYGVLTECRHFIEGAAGEHEMHSTDKKNAKRCQPNKGYL\n",
      "QNITGAYKMSQERHNYFFEHEGQSWIGKHGN-SWEVFAM-----GVLTECMHFIEGARGEHEMHSTDKKNAFRCQTNKGYL\n"
     ]
    }
   ],
   "source": [
    "opening_penalty = 11\n",
    "extension_penalty = 1\n",
    "penalty_count = 0\n",
    "score = 0\n",
    "penalty = 0\n",
    "flag = False\n",
    "\n",
    "for i in range(len(s1)):\n",
    "    if s1[i] != '-' and s2[i] != '-':\n",
    "        score += BLOSUM62_scoring_matrix(s1[i],s2[i])\n",
    "        \n",
    "        if flag:\n",
    "            penalty += opening_penalty + extension_penalty*(penalty_count-1)\n",
    "            penalty_count = 0\n",
    "            flag = False\n",
    "    \n",
    "    if s1[i] == '-' or s2[i] == '-':\n",
    "        penalty_count += 1\n",
    "        flag = True\n",
    "\n",
    "if flag:\n",
    "    penalty += opening_penalty + extension_penalty*(penalty_count-1)\n",
    "    \n",
    "    \n",
    "\n",
    "print(score-penalty)\n",
    "\n",
    "x = \"\".join([str(i) for i in s1])\n",
    "print(x)\n",
    "x = \"\".join([str(i) for i in s2])\n",
    "print(x)"
   ]
  },
  {
   "cell_type": "code",
   "execution_count": null,
   "id": "b15d431e",
   "metadata": {},
   "outputs": [],
   "source": []
  }
 ],
 "metadata": {
  "kernelspec": {
   "display_name": "Python 3 (ipykernel)",
   "language": "python",
   "name": "python3"
  },
  "language_info": {
   "codemirror_mode": {
    "name": "ipython",
    "version": 3
   },
   "file_extension": ".py",
   "mimetype": "text/x-python",
   "name": "python",
   "nbconvert_exporter": "python",
   "pygments_lexer": "ipython3",
   "version": "3.9.7"
  }
 },
 "nbformat": 4,
 "nbformat_minor": 5
}
