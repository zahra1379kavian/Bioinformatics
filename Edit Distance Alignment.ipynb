{
 "cells": [
  {
   "cell_type": "code",
   "execution_count": 80,
   "id": "1b54641c",
   "metadata": {},
   "outputs": [
    {
     "data": {
      "text/plain": [
       "''"
      ]
     },
     "execution_count": 80,
     "metadata": {},
     "output_type": "execute_result"
    }
   ],
   "source": [
    "import numpy as np\n",
    "\n",
    "file = open('rosalind.txt','r')\n",
    "Lines = file.readlines()\n",
    "lines = []\n",
    "seq = \"\"\n",
    "\n",
    "\n",
    "for line in Lines:\n",
    "    if line.find('>') == 0:\n",
    "        lines.append(seq)\n",
    "        seq = \"\"\n",
    "    if line.find('>') != 0:\n",
    "            seq = seq + line.strip('\\n')\n",
    "\n",
    "lines.append(seq)\n",
    "lines.pop(0)"
   ]
  },
  {
   "cell_type": "code",
   "execution_count": 81,
   "id": "afa4a831",
   "metadata": {},
   "outputs": [],
   "source": [
    "v = lines[0]\n",
    "w = lines[1]\n",
    "\n",
    "n = len(v)\n",
    "m = len(w)\n",
    "\n",
    "if n==0 or m==0:\n",
    "    edit_distance = max(m,n)\n",
    "else:\n",
    "    edit_distance = np.zeros((n+1,m+1), dtype= int)\n",
    "    direction = np.zeros((n+1,m+1), dtype= int)   #insert:0 deletion:1 mutation:2\n",
    "    for i in range(edit_distance.shape[0]):\n",
    "        for j in range(edit_distance.shape[1]):\n",
    "            if i==0 and j==0:\n",
    "                edit_distance[i][j]=0\n",
    "                direction[i][j] = 1000\n",
    "            elif i==0:\n",
    "                edit_distance[i][j] = edit_distance[i][j-1] +1\n",
    "                direction[i][j] = 0\n",
    "            elif j==0:\n",
    "                edit_distance[i][j] = edit_distance[i-1][j] +1\n",
    "                direction[i][j] = 1\n",
    "            else:\n",
    "                check_point = [edit_distance[i][j-1]+1,edit_distance[i-1][j]+1,\n",
    "                               edit_distance[i-1][j-1]+1 if v[i-1]!=w[j-1] else edit_distance[i-1][j-1]]\n",
    "                \n",
    "                edit_distance[i][j] = min(check_point)\n",
    "                direction[i][j] = check_point.index(min(check_point))\n",
    "                \n"
   ]
  },
  {
   "cell_type": "code",
   "execution_count": 82,
   "id": "eeae5ead",
   "metadata": {},
   "outputs": [],
   "source": [
    "s1 = [] \n",
    "s2 = []\n",
    "\n",
    "indx1 = n\n",
    "indx2 = m\n",
    "\n",
    "count_s1 = n-1\n",
    "count_s2 = m-1\n",
    "\n",
    "\n",
    "while direction[indx1][indx2] != 1000:\n",
    "    if direction[indx1][indx2] == 0:\n",
    "        s1.append('-')\n",
    "        s2.append(w[count_s2])\n",
    "        count_s2 -= 1\n",
    "        indx2 -= 1\n",
    "    if direction[indx1][indx2] == 1:\n",
    "        s1.append(v[count_s1])\n",
    "        s2.append('-')\n",
    "        count_s1 -= 1\n",
    "        indx1 -= 1\n",
    "    if direction[indx1][indx2] == 2:\n",
    "        s1.append(v[count_s1])\n",
    "        s2.append(w[count_s2])\n",
    "        count_s1 -= 1\n",
    "        count_s2 -= 1\n",
    "        indx1 -= 1\n",
    "        indx2 -= 1\n",
    "    \n",
    "s1.reverse()\n",
    "s2.reverse()"
   ]
  },
  {
   "cell_type": "code",
   "execution_count": 83,
   "id": "9b5ff383",
   "metadata": {},
   "outputs": [
    {
     "name": "stdout",
     "output_type": "stream",
     "text": [
      "382\n",
      "LIAHPCGNEYKQRVD-TELYCKWNWVIFQQMAVDICPVTFEGMEWIFDGHRAIDEECQGTDNGSGAEFCCQGQVWFDPRPFYHFVIV-LYFCRYNTRDMGLDAAHSDYPASAKFPYNMPKPGKSGPPNNGGTDQPHYAILHPLMACIL--PTEGWVVTEDKVILVEIQNDMQCHEWWRAIHRQIWQILRCNGNDAE---K----TYCHVETTIGADYKKRDGAEVRTR-----E---FWTRKRFETFTSGVHQTGFTHERAILYHKH-SQRGTRALVTELREYSWKAFNDGEQRYMHEEWGMGWTTMALTENGCIIHETTWHQSRPHWSDICRK--WMYVSAKMNVSCRASI-SMHLYKTSERRDCWNKSMLFQMCGVPDIAILVA---PLDSSPPGHDLPWTGPFFFRWEYWDQFYNAVFIFRMSPSVNC-KPGNWFPGCYIATPAWILWRTRQYDDNAWMPLFCIRRNECSRDEGWLVSKTDRTG--PTDENCYKIPHFMDS-GMEPWWHQGPGPRYKNQRYEANCWSSRANGQYSYR--------ASIFPEPKRCH----GAQKYIKM--HDVGWCFTG-SWMQDY----S-TNTNWGPCSQYPVMWDWCWVGWLAYVNPYLTY-F-YM-CHHSEVC---QCENMKRVTPTTVVIVTQANHWW-FDLCTSDADFHYINRTLDYPSDCVAVNFVRYASPMRMCPQWQGSGYW-AHSQHKTPY--VGPFWHMHPEQKQ--------CYWSISFTANQIVSTQEGECQKFVVLSDVQEGLGQQPYTIGIQVKDYDNETVYQYYDCGWWWYSSRLQGHSNNGDYNDWLSDFQEIGIWLKTGHQISMFTRRHQKARG--ITE----ETNGVHWREKHVVCPHLGSMQCIRWKV-IHNGEIHIVDIKNKTSGCTCNAIALDCNLVIH\n",
      "LVAH-CGNEYKQVVDQT-LYCFWFWVIFQTWY---C-VTFEGMEWNFDGHRAIDEECQGTDNLVGAEFCCQGQVWFDPRPFYHFVIVSLQW------D----AAHSDYPASAKFPYNMPKPGKSGPPNW----QPHYAILHYYGALISSIPPEIMC-TEDHVILVEIQNDDHAHT---AIH---WQIRRCNGNDAKNFNKLEPITYCSVETTINADYKKRDGAEVWTRQTPSTEHEIFWSRARFETGTSGVHQTGFTHERAILFHVHHS---T--LVTELREYSWKAFNDGEQ----E---MG-----------I-HETTWHQSRERKLVY-RVTIWMYWSWKMNVSCTYKTTSVWVGCQ-ERRVC---SMLFQMCGVPDIAILVMHMHPLCWSTVDHSPPGT------WLYWDQFYNQHHSV--SCGEIFRKPFN---GCY--TPALIICRTI---------LFCIRRNQCRRN--W-----DE-GNWPTDENCYKIPHFMKLIG---WWHQGPGPRYKNQRYEANCWSHRANGQYSYPHICHPNDNASIMPEPKRCVTATFGAQKYIKKNTHAHHDHSHQQSCMNIWCFTISWTNTNW-PCSQYPIM------GILAYVYRYMWAEFPYLLCHHSEVHAMPQCENMKRVTPTT-------N-WWKFDLC--DADFHYE--TGQTRS------FPHYAHPDCVAYCWL----WQAHSQHKIPMEQVGPTWHMHPEQKMGRDRWGNMCYWSISFTA--I----------FVVLSDVQEGLNFV---IQ-QVS----EFVYQYYDCGWWCYSSRLQTRSNNGDYNDWLSDFQEIHRNL------SMFTRRHQKARFPNIPFCIFSETNGVHWCEKHVVCPHLGSMQCERA-VTISRW-IHIVDI---TSGCTFNAIDLDCFLVIG\n"
     ]
    }
   ],
   "source": [
    "print(edit_distance[n][m])\n",
    "x = \"\".join([str(i) for i in s1])\n",
    "print(x)\n",
    "x = \"\".join([str(i) for i in s2])\n",
    "print(x)"
   ]
  },
  {
   "cell_type": "code",
   "execution_count": null,
   "id": "d1fb1411",
   "metadata": {},
   "outputs": [],
   "source": []
  }
 ],
 "metadata": {
  "kernelspec": {
   "display_name": "Python 3 (ipykernel)",
   "language": "python",
   "name": "python3"
  },
  "language_info": {
   "codemirror_mode": {
    "name": "ipython",
    "version": 3
   },
   "file_extension": ".py",
   "mimetype": "text/x-python",
   "name": "python",
   "nbconvert_exporter": "python",
   "pygments_lexer": "ipython3",
   "version": "3.9.7"
  }
 },
 "nbformat": 4,
 "nbformat_minor": 5
}
