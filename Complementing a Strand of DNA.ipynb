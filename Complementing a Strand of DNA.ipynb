{
 "cells": [
  {
   "cell_type": "code",
   "execution_count": 19,
   "id": "48ed7a19",
   "metadata": {},
   "outputs": [
    {
     "name": "stdout",
     "output_type": "stream",
     "text": [
      "\n",
      "TGACAGCACAATCATAGTGAGTTGCCCATATCGCTGCCCTTGTTAGAGGAAGGCTGCCGAGGTCACCTCGTCGTCGGAGTAAGTGTGCAAGCTTGTTGTGGAGATACGTTCCGCGTCTCCACGTGAGTCGAGAACTTTTGTCCTTAGCATCGTGACCTGAGATTGCGATTCTTGTTCCGGCAGGGGAGGCTTAGATCTTGAAGGCAGTCTACGTAGAGTACGTCTCTCAAACGAAAGGTAAAATCATATAACATTACGGAACACATTTTGTGTATAGTAGCAAGGATCACAATGAAGCACGGATAGGGGAATACATACGACAAAGGGACCCGTCAGCACGTAATCCGACTTGGATTACGGAATCCTGTAACAATTTGGATCGGCGGAACGACTATGTGTGCTTCACTCACAAAAGTTGGATTGAGGTGGTCCAGCCGACGGATTTGGCTGGGAACGCTAGTAACGTACGCAAAACTCAAAATGGTCCTCGTCAGTTACCTGTAATGTGGACTGCAAAGTAGACAGGTAAGATCAGGGCAACCGTAAAAAGATCCGCATTGGTCAGTCGACGAAGGGATGGCAGTGTACGTATTTATTAGCTCGCGCGAAGAGTATGAAACACGATTGTTATTACTAAGTCCGTCTCCGACTTTCCTGATGCAACTCTCCGCACCATGGATAAAACGCGCCAATGTTTCCCTGGCGTAAAGGTGTCGATCCTAATTAACTTATCCTTTCGTGCAAACCCATGGGACGTAACTCAAAGGGAGCATAAGACTAGACTCACCGCGGCCGGCTTCAACGGGTCATCTTGCGCTTTAAGGCTGACATGCAGGGAGGCCTTGTTCGAGATTTATTTCGCAGCTTTCCCGTCAAACGTAAAGTAAGTACATGCATTGCAACCCACTGCGGTCCATTAGAATTCTTATTGTCGCATCGTATCCGAGCACCATGGAGTGTTCTCAGT\n"
     ]
    }
   ],
   "source": [
    "file = open('rosalind_revc.txt','r')\n",
    "input_string = file.read()\n",
    "\n",
    "seq = (input_string.replace(\"A\", \"t\").replace(\"C\", \"g\").replace(\"T\", \"a\").replace(\"G\", \"c\")).upper()\n",
    "out_string = seq[::-1]\n",
    "print(out_string)"
   ]
  },
  {
   "cell_type": "code",
   "execution_count": null,
   "id": "7aa809fd",
   "metadata": {},
   "outputs": [],
   "source": []
  }
 ],
 "metadata": {
  "kernelspec": {
   "display_name": "Python 3 (ipykernel)",
   "language": "python",
   "name": "python3"
  },
  "language_info": {
   "codemirror_mode": {
    "name": "ipython",
    "version": 3
   },
   "file_extension": ".py",
   "mimetype": "text/x-python",
   "name": "python",
   "nbconvert_exporter": "python",
   "pygments_lexer": "ipython3",
   "version": "3.9.7"
  }
 },
 "nbformat": 4,
 "nbformat_minor": 5
}
