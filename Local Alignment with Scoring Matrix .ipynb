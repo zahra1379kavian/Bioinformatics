{
 "cells": [
  {
   "cell_type": "code",
   "execution_count": 17,
   "id": "8ba64c89",
   "metadata": {},
   "outputs": [
    {
     "data": {
      "text/plain": [
       "''"
      ]
     },
     "execution_count": 17,
     "metadata": {},
     "output_type": "execute_result"
    }
   ],
   "source": [
    "import numpy as np\n",
    "\n",
    "file = open('rosalind.txt','r')\n",
    "Lines = file.readlines()\n",
    "lines = []\n",
    "seq = \"\"\n",
    "\n",
    "\n",
    "for line in Lines:\n",
    "    if line.find('>') == 0:\n",
    "        lines.append(seq)\n",
    "        seq = \"\"\n",
    "    if line.find('>') != 0:\n",
    "            seq = seq + line.strip('\\n')\n",
    "\n",
    "lines.append(seq)\n",
    "lines.pop(0)"
   ]
  },
  {
   "cell_type": "code",
   "execution_count": 18,
   "id": "cf0c4bed",
   "metadata": {},
   "outputs": [],
   "source": [
    "def BLOSUM62_scoring_matrix(s1,s2):\n",
    "    sMatrixTxt = '''\n",
    "   A  C  D  E  F  G  H  I  K  L  M  N  P  Q  R  S  T  V  W  Y\n",
    "A  4  0 -2 -1 -2  0 -2 -1 -1 -1 -1 -2 -1 -1 -1  1  0  0 -3 -2\n",
    "C  0  9 -3 -4 -2 -3 -3 -1 -3 -1 -1 -3 -3 -3 -3 -1 -1 -1 -2 -2\n",
    "D -2 -3  6  2 -3 -1 -1 -3 -1 -4 -3  1 -1  0 -2  0 -1 -3 -4 -3\n",
    "E -1 -4  2  5 -3 -2  0 -3  1 -3 -2  0 -1  2  0  0 -1 -2 -3 -2\n",
    "F -2 -2 -3 -3  6 -3 -1  0 -3  0  0 -3 -4 -3 -3 -2 -2 -1  1  3\n",
    "G  0 -3 -1 -2 -3  6 -2 -4 -2 -4 -3  0 -2 -2 -2  0 -2 -3 -2 -3\n",
    "H -2 -3 -1  0 -1 -2  8 -3 -1 -3 -2  1 -2  0  0 -1 -2 -3 -2  2\n",
    "I -1 -1 -3 -3  0 -4 -3  4 -3  2  1 -3 -3 -3 -3 -2 -1  3 -3 -1\n",
    "K -1 -3 -1  1 -3 -2 -1 -3  5 -2 -1  0 -1  1  2  0 -1 -2 -3 -2\n",
    "L -1 -1 -4 -3  0 -4 -3  2 -2  4  2 -3 -3 -2 -2 -2 -1  1 -2 -1\n",
    "M -1 -1 -3 -2  0 -3 -2  1 -1  2  5 -2 -2  0 -1 -1 -1  1 -1 -1\n",
    "N -2 -3  1  0 -3  0  1 -3  0 -3 -2  6 -2  0  0  1  0 -3 -4 -2\n",
    "P -1 -3 -1 -1 -4 -2 -2 -3 -1 -3 -2 -2  7 -1 -2 -1 -1 -2 -4 -3\n",
    "Q -1 -3  0  2 -3 -2  0 -3  1 -2  0  0 -1  5  1  0 -1 -2 -2 -1\n",
    "R -1 -3 -2  0 -3 -2  0 -3  2 -2 -1  0 -2  1  5 -1 -1 -3 -3 -2\n",
    "S  1 -1  0  0 -2  0 -1 -2  0 -2 -1  1 -1  0 -1  4  1 -2 -3 -2\n",
    "T  0 -1 -1 -1 -2 -2 -2 -1 -1 -1 -1  0 -1 -1 -1  1  5  0 -2 -2\n",
    "V  0 -1 -3 -2 -1 -3 -3  3 -2  1  1 -3 -2 -2 -3 -2  0  4 -3 -1\n",
    "W -3 -2 -4 -3  1 -2 -2 -3 -3 -2 -1 -4 -4 -2 -3 -3 -2 -3 11  2\n",
    "Y -2 -2 -3 -2  3 -3  2 -1 -2 -1 -1 -2 -3 -1 -2 -2 -2 -1  2  7\n",
    "'''\n",
    "\n",
    "    sMatrixList = sMatrixTxt.split('\\n')\n",
    "    sMatrixList.pop(0)\n",
    "    del sMatrixList[-1]\n",
    "\n",
    "    col = sMatrixList[0].index(s1)\n",
    "    for i in range(len(sMatrixList)):\n",
    "        if sMatrixList[i][0] == s2:\n",
    "            score = int(sMatrixList[i][col-1]+sMatrixList[i][col])\n",
    "    \n",
    "    return score"
   ]
  },
  {
   "cell_type": "code",
   "execution_count": 44,
   "id": "452b6f9f",
   "metadata": {},
   "outputs": [],
   "source": [
    "def local_alignmen(lines):\n",
    "    v = lines[0]\n",
    "    w = lines[1]\n",
    "    \n",
    "    n = len(v)\n",
    "    m = len(w)\n",
    "    \n",
    "    gap_penalty = 1\n",
    "    gap_opening = 11\n",
    "    \n",
    "    \n",
    "    #lower = np.ones((n+1,m+1), dtype= int)*(-1000000)\n",
    "    #lower = np.ones((n+1,m+1), dtype= int)*(-1000000)\n",
    "    #middle = np.ones((n+1,m+1), dtype= int)*(-1000000)\n",
    "    #upper = np.ones((n+1,m+1), dtype= int)*(-1000000)\n",
    "    lower = np.zeros((n+1,m+1), dtype= int)\n",
    "    middle = np.zeros((n+1,m+1), dtype= int)\n",
    "    upper = np.zeros((n+1,m+1), dtype= int)\n",
    "    local_distance = [lower, middle, upper]\n",
    "    \n",
    "    direction_lower = np.zeros((n+1,m+1), dtype= int)   \n",
    "    direction_middel = np.zeros((n+1,m+1), dtype= int)\n",
    "    direction_upper = np.zeros((n+1,m+1), dtype= int)\n",
    "    direction = [direction_lower, direction_middel, direction_upper]\n",
    "    \n",
    "    local_distance[0][0,0] = 0\n",
    "    local_distance[1][0,0] = 0\n",
    "    local_distance[0][1,0] = -gap_opening\n",
    "    local_distance[1][1,0] = -gap_opening\n",
    "\n",
    "    for i in np.arange(2,n+1):\n",
    "        local_distance[0][i,0] = local_distance[0][i-1,0] - gap_penalty\n",
    "        local_distance[1][i,0] = local_distance[0][i,0]\n",
    "    \n",
    "    \n",
    "    \n",
    "    local_distance[2][0,0] = 0\n",
    "    local_distance[2][0,1] = -gap_opening\n",
    "    local_distance[1][0,1] = -gap_opening\n",
    "    \n",
    "    for i in np.arange(2,m+1):\n",
    "        local_distance[2][0,i] = local_distance[2][0,i-1] - gap_penalty\n",
    "        local_distance[1][0,i] = local_distance[2][0,i]\n",
    "    \n",
    "    for i in range(1,n+1):\n",
    "        for j in range(1,m+1):\n",
    "            check_point = [local_distance[0][i-1,j]-gap_penalty,\n",
    "                          local_distance[1][i-1,j]-gap_opening]\n",
    "            max_score = max(check_point)\n",
    "            local_distance[0][i,j] = max_score\n",
    "            if check_point.index(max_score)==1:\n",
    "                direction[0][i,j] = 1 \n",
    "            \n",
    "            \n",
    "            check_point = [local_distance[2][i,j-1]-gap_penalty,\n",
    "                          local_distance[1][i,j-1]-gap_opening]\n",
    "            max_score = max(check_point)\n",
    "            local_distance[2][i,j] = max_score\n",
    "            if check_point.index(max_score)==1:\n",
    "                direction[2][i,j] = 1\n",
    "            \n",
    "            \n",
    "            match_score = BLOSUM62_scoring_matrix(v[i-1],w[j-1])\n",
    "            check_point = [0, (local_distance[0][i,j]),\n",
    "                           (local_distance[1][i-1,j-1]+match_score),\n",
    "                           (local_distance[2][i,j])]\n",
    "            max_score = max(check_point)\n",
    "            local_distance[1][i,j] = max_score\n",
    "            if max_score == check_point[0]:\n",
    "                direction[1][i,j] = 3\n",
    "            elif max_score == check_point[1]:\n",
    "                direction[1][i,j] = 1\n",
    "            elif max_score == check_point[2]:\n",
    "                direction[1][i,j] = 2\n",
    "\n",
    "    \n",
    "\n",
    "    return local_distance[1][n,m],direction,local_distance"
   ]
  },
  {
   "cell_type": "code",
   "execution_count": 59,
   "id": "46b46c9e",
   "metadata": {},
   "outputs": [],
   "source": [
    "def bracktract(local_distance,direction,v,w):\n",
    "    s1 = [] \n",
    "    s2 = []\n",
    "    \n",
    "    #indx1 = n\n",
    "    #indx2 = m\n",
    "    \n",
    "    indx2 = np.argmax(np.max(local_distance[1], axis=0))\n",
    "    print(indx2)\n",
    "    indx1 = np.argmax(np.max(local_distance[1], axis=1))\n",
    "    print(indx1)\n",
    "    \n",
    "    level = 1\n",
    "    \n",
    "    while indx1>0 or indx2>0:\n",
    "        print('indx1'+' '+str(indx1))\n",
    "        print('indx2'+' '+str(indx2))\n",
    "        print('level'+' '+str(level))\n",
    "        \n",
    "        if level == 0:\n",
    "            level = direction[0][indx1,indx2]\n",
    "            indx1 -= 1\n",
    "            s2.append('-')\n",
    "            s1.append(v[indx1])\n",
    "        \n",
    "        elif level == 2:\n",
    "            if direction[2][indx1,indx2]==1:\n",
    "                level = 1\n",
    "            indx2 -= 1\n",
    "            s2.append(w[indx2])\n",
    "            s1.append('-')\n",
    "            \n",
    "        elif level == 1:\n",
    "            level = direction[1][indx1,indx2]\n",
    "            if level == 1:\n",
    "                indx1 -= 1\n",
    "                indx2 -= 1\n",
    "                s1.append(v[indx1])\n",
    "                s2.append(w[indx2])\n",
    "        elif level == 3:\n",
    "            indx1 = 0\n",
    "            indx2 = 0\n",
    "                \n",
    "    s1.reverse()\n",
    "    s2.reverse()    \n",
    "    \n",
    "    return s1,s2\n"
   ]
  },
  {
   "cell_type": "code",
   "execution_count": 60,
   "id": "edf24e5f",
   "metadata": {},
   "outputs": [
    {
     "name": "stdout",
     "output_type": "stream",
     "text": [
      "6\n",
      "10\n",
      "indx1 10\n",
      "indx2 6\n",
      "level 1\n",
      "indx1 10\n",
      "indx2 6\n",
      "level 2\n",
      "indx1 10\n",
      "indx2 5\n",
      "level 2\n",
      "indx1 10\n",
      "indx2 4\n",
      "level 2\n",
      "indx1 10\n",
      "indx2 3\n",
      "level 2\n",
      "indx1 10\n",
      "indx2 2\n",
      "level 2\n",
      "indx1 10\n",
      "indx2 1\n",
      "level 2\n",
      "indx1 10\n",
      "indx2 0\n",
      "level 2\n",
      "indx1 10\n",
      "indx2 -1\n",
      "level 2\n",
      "indx1 10\n",
      "indx2 -2\n",
      "level 2\n",
      "indx1 10\n",
      "indx2 -3\n",
      "level 2\n",
      "indx1 10\n",
      "indx2 -4\n",
      "level 2\n",
      "indx1 10\n",
      "indx2 -5\n",
      "level 2\n",
      "indx1 10\n",
      "indx2 -6\n",
      "level 2\n"
     ]
    },
    {
     "ename": "IndexError",
     "evalue": "string index out of range",
     "output_type": "error",
     "traceback": [
      "\u001b[1;31m---------------------------------------------------------------------------\u001b[0m",
      "\u001b[1;31mIndexError\u001b[0m                                Traceback (most recent call last)",
      "\u001b[1;32m~\\AppData\\Local\\Temp/ipykernel_6280/1645686838.py\u001b[0m in \u001b[0;36m<module>\u001b[1;34m\u001b[0m\n\u001b[0;32m      3\u001b[0m \u001b[0mv\u001b[0m \u001b[1;33m=\u001b[0m \u001b[0mlines\u001b[0m\u001b[1;33m[\u001b[0m\u001b[1;36m0\u001b[0m\u001b[1;33m]\u001b[0m\u001b[1;33m\u001b[0m\u001b[1;33m\u001b[0m\u001b[0m\n\u001b[0;32m      4\u001b[0m \u001b[0mw\u001b[0m \u001b[1;33m=\u001b[0m \u001b[0mlines\u001b[0m\u001b[1;33m[\u001b[0m\u001b[1;36m1\u001b[0m\u001b[1;33m]\u001b[0m\u001b[1;33m\u001b[0m\u001b[1;33m\u001b[0m\u001b[0m\n\u001b[1;32m----> 5\u001b[1;33m \u001b[0ms1\u001b[0m\u001b[1;33m,\u001b[0m \u001b[0ms2\u001b[0m \u001b[1;33m=\u001b[0m \u001b[0mbracktract\u001b[0m\u001b[1;33m(\u001b[0m\u001b[0mlocal_distance\u001b[0m\u001b[1;33m,\u001b[0m\u001b[0mdirection\u001b[0m\u001b[1;33m,\u001b[0m\u001b[0mv\u001b[0m\u001b[1;33m,\u001b[0m\u001b[0mw\u001b[0m\u001b[1;33m)\u001b[0m\u001b[1;33m\u001b[0m\u001b[1;33m\u001b[0m\u001b[0m\n\u001b[0m\u001b[0;32m      6\u001b[0m \u001b[1;33m\u001b[0m\u001b[0m\n\u001b[0;32m      7\u001b[0m \u001b[0mprint\u001b[0m\u001b[1;33m(\u001b[0m\u001b[0mmax_score\u001b[0m\u001b[1;33m)\u001b[0m\u001b[1;33m\u001b[0m\u001b[1;33m\u001b[0m\u001b[0m\n",
      "\u001b[1;32m~\\AppData\\Local\\Temp/ipykernel_6280/2791173281.py\u001b[0m in \u001b[0;36mbracktract\u001b[1;34m(local_distance, direction, v, w)\u001b[0m\n\u001b[0;32m     28\u001b[0m                 \u001b[0mlevel\u001b[0m \u001b[1;33m=\u001b[0m \u001b[1;36m1\u001b[0m\u001b[1;33m\u001b[0m\u001b[1;33m\u001b[0m\u001b[0m\n\u001b[0;32m     29\u001b[0m             \u001b[0mindx2\u001b[0m \u001b[1;33m-=\u001b[0m \u001b[1;36m1\u001b[0m\u001b[1;33m\u001b[0m\u001b[1;33m\u001b[0m\u001b[0m\n\u001b[1;32m---> 30\u001b[1;33m             \u001b[0ms2\u001b[0m\u001b[1;33m.\u001b[0m\u001b[0mappend\u001b[0m\u001b[1;33m(\u001b[0m\u001b[0mw\u001b[0m\u001b[1;33m[\u001b[0m\u001b[0mindx2\u001b[0m\u001b[1;33m]\u001b[0m\u001b[1;33m)\u001b[0m\u001b[1;33m\u001b[0m\u001b[1;33m\u001b[0m\u001b[0m\n\u001b[0m\u001b[0;32m     31\u001b[0m             \u001b[0ms1\u001b[0m\u001b[1;33m.\u001b[0m\u001b[0mappend\u001b[0m\u001b[1;33m(\u001b[0m\u001b[1;34m'-'\u001b[0m\u001b[1;33m)\u001b[0m\u001b[1;33m\u001b[0m\u001b[1;33m\u001b[0m\u001b[0m\n\u001b[0;32m     32\u001b[0m \u001b[1;33m\u001b[0m\u001b[0m\n",
      "\u001b[1;31mIndexError\u001b[0m: string index out of range"
     ]
    }
   ],
   "source": [
    "max_score, direction, local_distance = local_alignmen(lines)\n",
    "\n",
    "v = lines[0]\n",
    "w = lines[1]\n",
    "s1, s2 = bracktract(local_distance,direction,v,w)\n",
    "\n",
    "print(max_score)\n",
    "x = \"\".join([str(i) for i in s1])\n",
    "print(x)\n",
    "x = \"\".join([str(i) for i in s2])\n",
    "print(x)"
   ]
  },
  {
   "cell_type": "code",
   "execution_count": 50,
   "id": "8153d9b6",
   "metadata": {},
   "outputs": [
    {
     "data": {
      "text/plain": [
       "array([[0, 0, 0, 0, 0, 0, 0],\n",
       "       [0, 0, 0, 0, 0, 0, 0],\n",
       "       [0, 0, 0, 0, 0, 0, 0],\n",
       "       [0, 0, 0, 0, 0, 0, 0],\n",
       "       [0, 0, 0, 0, 0, 0, 0],\n",
       "       [0, 0, 0, 1, 0, 0, 0],\n",
       "       [0, 0, 0, 0, 1, 0, 0],\n",
       "       [0, 0, 0, 0, 0, 1, 0],\n",
       "       [0, 0, 0, 0, 1, 0, 1],\n",
       "       [0, 0, 0, 0, 0, 1, 0],\n",
       "       [0, 0, 0, 0, 0, 0, 1]])"
      ]
     },
     "execution_count": 50,
     "metadata": {},
     "output_type": "execute_result"
    }
   ],
   "source": [
    "direction[0]"
   ]
  },
  {
   "cell_type": "code",
   "execution_count": 51,
   "id": "7ff9dd3d",
   "metadata": {},
   "outputs": [
    {
     "data": {
      "text/plain": [
       "array([[0, 0, 0, 0, 0, 0, 0],\n",
       "       [0, 3, 3, 3, 3, 3, 3],\n",
       "       [0, 3, 3, 3, 3, 2, 3],\n",
       "       [0, 3, 2, 3, 3, 3, 2],\n",
       "       [0, 3, 3, 2, 3, 3, 3],\n",
       "       [0, 3, 3, 2, 2, 3, 3],\n",
       "       [0, 3, 3, 2, 3, 2, 3],\n",
       "       [0, 3, 3, 3, 2, 3, 2],\n",
       "       [0, 3, 3, 3, 3, 2, 3],\n",
       "       [0, 3, 3, 3, 3, 2, 2],\n",
       "       [0, 3, 3, 3, 3, 3, 2]])"
      ]
     },
     "execution_count": 51,
     "metadata": {},
     "output_type": "execute_result"
    }
   ],
   "source": [
    "direction[1]"
   ]
  },
  {
   "cell_type": "code",
   "execution_count": 61,
   "id": "2b9707bc",
   "metadata": {},
   "outputs": [
    {
     "data": {
      "text/plain": [
       "array([[0, 0, 0, 0, 0, 0, 0],\n",
       "       [0, 0, 0, 0, 0, 0, 0],\n",
       "       [0, 0, 0, 0, 0, 0, 0],\n",
       "       [0, 0, 0, 0, 0, 0, 0],\n",
       "       [0, 0, 0, 0, 1, 0, 0],\n",
       "       [0, 0, 0, 0, 0, 1, 0],\n",
       "       [0, 0, 0, 0, 0, 0, 1],\n",
       "       [0, 0, 0, 0, 0, 1, 0],\n",
       "       [0, 0, 0, 0, 0, 0, 1],\n",
       "       [0, 0, 0, 0, 0, 0, 0],\n",
       "       [0, 0, 0, 0, 0, 0, 0]])"
      ]
     },
     "execution_count": 61,
     "metadata": {},
     "output_type": "execute_result"
    }
   ],
   "source": [
    "direction[2]"
   ]
  },
  {
   "cell_type": "code",
   "execution_count": 47,
   "id": "8446efb3",
   "metadata": {},
   "outputs": [
    {
     "data": {
      "text/plain": [
       "array([[  0,   0,   0,   0,   0,   0,   0],\n",
       "       [-11,  -1,  -1,  -1,  -1,  -1,  -1],\n",
       "       [-12,  -2,  -2,  -2,  -2,  -2,  -2],\n",
       "       [-13,  -3,  -3,  -3,  -3,  -3,  -3],\n",
       "       [-14,  -4,  -4,  -4,  -4,  -4,  -4],\n",
       "       [-15,  -5,  -5,  -2,  -5,  -5,  -5],\n",
       "       [-16,  -6,  -6,  -3,  -1,  -6,  -6],\n",
       "       [-17,  -7,  -7,  -4,  -2,  -2,  -7],\n",
       "       [-18,  -8,  -8,  -5,  -1,  -3,  -4],\n",
       "       [-19,  -9,  -9,  -6,  -2,  -2,  -5],\n",
       "       [-20, -10, -10,  -7,  -3,  -3,  -3]])"
      ]
     },
     "execution_count": 47,
     "metadata": {},
     "output_type": "execute_result"
    }
   ],
   "source": [
    "local_distance[0]"
   ]
  },
  {
   "cell_type": "code",
   "execution_count": 48,
   "id": "1eb45f70",
   "metadata": {},
   "outputs": [
    {
     "data": {
      "text/plain": [
       "array([[  0, -11, -12, -13, -14, -15, -16],\n",
       "       [-11,   0,   0,   0,   0,   0,   0],\n",
       "       [-12,   0,   0,   0,   0,   4,   0],\n",
       "       [-13,   0,   5,   0,   0,   0,   2],\n",
       "       [-14,   0,   0,   9,   0,   0,   0],\n",
       "       [-15,   0,   0,   1,  10,   0,   0],\n",
       "       [-16,   0,   0,   4,   0,   9,   0],\n",
       "       [-17,   0,   0,   0,  10,   0,   7],\n",
       "       [-18,   0,   0,   0,   0,   9,   0],\n",
       "       [-19,   0,   0,   0,   0,   4,   8],\n",
       "       [-20,   0,   0,   0,   0,   0,  11]])"
      ]
     },
     "execution_count": 48,
     "metadata": {},
     "output_type": "execute_result"
    }
   ],
   "source": [
    "local_distance[1]"
   ]
  },
  {
   "cell_type": "code",
   "execution_count": 49,
   "id": "4b0a9fc0",
   "metadata": {},
   "outputs": [
    {
     "data": {
      "text/plain": [
       "array([[  0, -11, -12, -13, -14, -15, -16],\n",
       "       [  0,  -1,  -2,  -3,  -4,  -5,  -6],\n",
       "       [  0,  -1,  -2,  -3,  -4,  -5,  -6],\n",
       "       [  0,  -1,  -2,  -3,  -4,  -5,  -6],\n",
       "       [  0,  -1,  -2,  -3,  -2,  -3,  -4],\n",
       "       [  0,  -1,  -2,  -3,  -4,  -1,  -2],\n",
       "       [  0,  -1,  -2,  -3,  -4,  -5,  -2],\n",
       "       [  0,  -1,  -2,  -3,  -4,  -1,  -2],\n",
       "       [  0,  -1,  -2,  -3,  -4,  -5,  -2],\n",
       "       [  0,  -1,  -2,  -3,  -4,  -5,  -6],\n",
       "       [  0,  -1,  -2,  -3,  -4,  -5,  -6]])"
      ]
     },
     "execution_count": 49,
     "metadata": {},
     "output_type": "execute_result"
    }
   ],
   "source": [
    "local_distance[2]"
   ]
  },
  {
   "cell_type": "code",
   "execution_count": null,
   "id": "7ff4f2c8",
   "metadata": {},
   "outputs": [],
   "source": []
  }
 ],
 "metadata": {
  "kernelspec": {
   "display_name": "Python 3 (ipykernel)",
   "language": "python",
   "name": "python3"
  },
  "language_info": {
   "codemirror_mode": {
    "name": "ipython",
    "version": 3
   },
   "file_extension": ".py",
   "mimetype": "text/x-python",
   "name": "python",
   "nbconvert_exporter": "python",
   "pygments_lexer": "ipython3",
   "version": "3.9.7"
  }
 },
 "nbformat": 4,
 "nbformat_minor": 5
}
