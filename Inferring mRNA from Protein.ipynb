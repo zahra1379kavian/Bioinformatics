{
 "cells": [
  {
   "cell_type": "code",
   "execution_count": 76,
   "id": "fbb82eeb",
   "metadata": {},
   "outputs": [],
   "source": [
    "import numpy as np\n",
    "\n",
    "file = open('rosalind.txt','r')\n",
    "Lines = file.readlines()\n",
    "\n",
    "line = ''.join([str(item) for item in Lines])\n",
    "line = line.rstrip(line[-1])"
   ]
  },
  {
   "cell_type": "code",
   "execution_count": 77,
   "id": "e8fbb37c",
   "metadata": {},
   "outputs": [],
   "source": [
    "codon_tabel = {'A':4,'R':6,'D':2,'N':2,'C':2,'E':2,'Q':2,'G':4,'H':2,'I':3,'L':6,'K':2,'M':1,'F':2,'P':4,'S':6,'T':4,'W':1,'Y':2,'V':4}\n",
    "stpo_codon_num = 3"
   ]
  },
  {
   "cell_type": "code",
   "execution_count": 78,
   "id": "2e40028c",
   "metadata": {},
   "outputs": [
    {
     "name": "stdout",
     "output_type": "stream",
     "text": [
      "841088\n"
     ]
    }
   ],
   "source": [
    "num_permutat = 1\n",
    "for nucleotide in line:\n",
    "    num_permutat = num_permutat*codon_tabel[nucleotide] % 1E6\n",
    "    \n",
    "num_permutat = num_permutat*stpo_codon_num % 1E6\n",
    "\n",
    "print(int(num_permutat))"
   ]
  },
  {
   "cell_type": "code",
   "execution_count": null,
   "id": "612cfb8c",
   "metadata": {},
   "outputs": [],
   "source": []
  }
 ],
 "metadata": {
  "kernelspec": {
   "display_name": "Python 3 (ipykernel)",
   "language": "python",
   "name": "python3"
  },
  "language_info": {
   "codemirror_mode": {
    "name": "ipython",
    "version": 3
   },
   "file_extension": ".py",
   "mimetype": "text/x-python",
   "name": "python",
   "nbconvert_exporter": "python",
   "pygments_lexer": "ipython3",
   "version": "3.9.7"
  }
 },
 "nbformat": 4,
 "nbformat_minor": 5
}
