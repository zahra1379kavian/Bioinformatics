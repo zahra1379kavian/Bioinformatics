{
 "cells": [
  {
   "cell_type": "code",
   "execution_count": 92,
   "id": "18bdbfc0",
   "metadata": {},
   "outputs": [],
   "source": [
    "f = open('rosalind.txt','r')\n",
    "data = []\n",
    "\n",
    "for line in f:\n",
    "    data.append(line.strip())\n",
    "    \n",
    "n = int(data[0])\n",
    "j = int(data[1])\n",
    "\n",
    "disMatrix = [[0]*n for _ in range(n)]\n",
    "for i in range(n):\n",
    "    a = data[i+2].split()\n",
    "    for k in range(len(a)):\n",
    "        disMatrix[i][k] = int(a[k])"
   ]
  },
  {
   "cell_type": "code",
   "execution_count": 93,
   "id": "374fd753",
   "metadata": {},
   "outputs": [
    {
     "name": "stdout",
     "output_type": "stream",
     "text": [
      "846\n"
     ]
    }
   ],
   "source": [
    "limblength = 1000000000000000\n",
    "\n",
    "if j==0:\n",
    "    i = j+1\n",
    "else:\n",
    "    i = j-1\n",
    "\n",
    "for k in range(n):\n",
    "    if i!= k and k!=j :\n",
    "        d = (disMatrix[i][j] + disMatrix[j][k] - disMatrix[i][k])//2\n",
    "        if d<limblength:\n",
    "            limblength = d\n",
    "\n",
    "print(limblength)"
   ]
  },
  {
   "cell_type": "code",
   "execution_count": null,
   "id": "6a27d621",
   "metadata": {},
   "outputs": [],
   "source": []
  }
 ],
 "metadata": {
  "kernelspec": {
   "display_name": "Python 3 (ipykernel)",
   "language": "python",
   "name": "python3"
  },
  "language_info": {
   "codemirror_mode": {
    "name": "ipython",
    "version": 3
   },
   "file_extension": ".py",
   "mimetype": "text/x-python",
   "name": "python",
   "nbconvert_exporter": "python",
   "pygments_lexer": "ipython3",
   "version": "3.9.7"
  }
 },
 "nbformat": 4,
 "nbformat_minor": 5
}
